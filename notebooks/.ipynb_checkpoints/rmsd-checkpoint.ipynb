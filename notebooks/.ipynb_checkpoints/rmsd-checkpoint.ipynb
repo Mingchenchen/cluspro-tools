{
 "cells": [
  {
   "cell_type": "code",
   "execution_count": null,
   "metadata": {},
   "outputs": [],
   "source": [
    "# ./rmsd.py\n",
    "\n",
    "# Description:\n",
    "# Calculates an rmsd for based on a ligand \n",
    "# and a crystallized ligand"
   ]
  },
  {
   "cell_type": "code",
   "execution_count": null,
   "metadata": {},
   "outputs": [],
   "source": [
    "from __future__ import division\n",
    "from subprocess import Popen,PIPE"
   ]
  },
  {
   "cell_type": "code",
   "execution_count": null,
   "metadata": {},
   "outputs": [],
   "source": [
    "def reportRMSD(ligfile, ligcrys, ftfile, rotprm, output):\n",
    "    \"\"\"Usage: sblu measure ftrmsd [OPTIONS] LIG_FILE LIG_CRYS FTFILE ROTPRM\n",
    "\n",
    "    Options:\n",
    "      --sort-ftresults / --no-sort-ftresults\n",
    "      -n, --nftresults INTEGER\n",
    "      --only-CA                       Only C-alpha atoms\n",
    "      --only-backbone                 Only backbone atoms\n",
    "      --only-interface                Only use inteface atoms. Requires --rec.\n",
    "      --interface-radius FLOAT        Radius around receptor to consider.\n",
    "      --rec PATH                      Receptor file if using interface mode.\n",
    "      -o, --output FILENAME           Write output to file (default: stdout)\n",
    "      --help                          Show this message and exit.\n",
    "    \"\"\"\n",
    "    ftname = os.path.basename(ftfile)\n",
    "    cmd = 'sblu measure ftrmsd -o {output} {ligfile} {ligcrys} {ftfile} {rotprm}'\n",
    "    print cmd\n",
    "    proc = Popen(cmd, shell=True, stderr=PIPE, stdout=PIPE)\n",
    "    so,se = proc.communicate()"
   ]
  },
  {
   "cell_type": "code",
   "execution_count": null,
   "metadata": {},
   "outputs": [],
   "source": [
    "def graphRMSD():\n",
    "    #TODO: - Need to fix matplotlib depedency issues on main PC\n",
    "    # For now, implement this on PHOSTIA-mobile"
   ]
  }
 ],
 "metadata": {
  "kernelspec": {
   "display_name": "Python 2",
   "language": "python",
   "name": "python2"
  },
  "language_info": {
   "codemirror_mode": {
    "name": "ipython",
    "version": 2
   },
   "file_extension": ".py",
   "mimetype": "text/x-python",
   "name": "python",
   "nbconvert_exporter": "python",
   "pygments_lexer": "ipython2",
   "version": "2.7.15rc1"
  }
 },
 "nbformat": 4,
 "nbformat_minor": 2
}
