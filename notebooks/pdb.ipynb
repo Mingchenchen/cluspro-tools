{
 "cells": [
  {
   "cell_type": "code",
   "execution_count": 1,
   "metadata": {},
   "outputs": [],
   "source": [
    "# ./pdb.py\n",
    "\n",
    "# Description:\n",
    "# TODO: Make better documenation"
   ]
  },
  {
   "cell_type": "code",
   "execution_count": 2,
   "metadata": {},
   "outputs": [],
   "source": [
    "from __future__ import division\n",
    "\n",
    "import os\n",
    "import linecache\n",
    "from itertools import islice\n",
    "import math\n",
    "from prody import *\n",
    "\n",
    "from glob import glob\n",
    "from subprocess import Popen,PIPE\n",
    "\n",
    "from pymol import cmd, stored, math\n",
    "import numpy as np"
   ]
  },
  {
   "cell_type": "code",
   "execution_count": 3,
   "metadata": {},
   "outputs": [],
   "source": [
    "def loadSession(session):\n",
    "    \"\"\"\n",
    "    Loads a given PyMOL Session (e.g., an align-map)\n",
    "    \"\"\"\n",
    "    cmd.load(session)\n",
    "    pymol.finish_launching()\n",
    "    cmd.load(session) # otherwise stops @ error 'PyMOL not running, entering library mode (experimental)'"
   ]
  },
  {
   "cell_type": "code",
   "execution_count": 4,
   "metadata": {},
   "outputs": [],
   "source": [
    "def read_rotations(filepath, limit=None):\n",
    "    \"\"\"\n",
    "    Reads 3x3 rotation matrices from a file.\n",
    "\n",
    "    Rotations may be a text file with 9 or 10 columns. If the text file has 10\n",
    "    columns, the first column is assumed to be the line number, which will be discarded.\n",
    "\n",
    "    Returns a numpy array with dimensions N x (3x3) (an array of 3x3 rotation\n",
    "    matrices), where N is the smaller of number of rotations in the file and limit,\n",
    "    if limit is provided.\n",
    "    \"\"\"\n",
    "    with open(filepath, 'r') as stream:\n",
    "        return read_rotations_stream(stream, limit)\n",
    "\n",
    "def read_rotations_stream(stream, limit=None):\n",
    "    \"\"\"\n",
    "    Read rotations from a stream.\n",
    "\n",
    "    Rotations may be a text file with 9 or 10 columns. If the text file has 10\n",
    "    columns, the first column is assumed to be the line number, which will be discarded.\n",
    "\n",
    "    Returns a numpy array with dimensions N x (3x3) (an array of 3x3 rotation\n",
    "    matrices), where N is the smaller of number of rotations in the file and limit,\n",
    "    if limit is provided.\n",
    "    \"\"\"\n",
    "    rotations = np.loadtxt(\n",
    "        islice(iter(stream), 0, limit))\n",
    "    if rotations.shape[-1] == 10:\n",
    "        rotations = rotations[:, 1:]\n",
    "    return rotations.reshape(-1, 3, 3)"
   ]
  },
  {
   "cell_type": "code",
   "execution_count": 5,
   "metadata": {},
   "outputs": [],
   "source": [
    "def read_ftresults(filepath, limit=None):\n",
    "    \"\"\"\n",
    "    Reads ftresults from a file.\n",
    "\n",
    "    See read_ftresults_stream for details.\n",
    "    \"\"\"\n",
    "    with open(filepath, \"r\") as f:\n",
    "        return read_ftresults_stream(f, limit)\n",
    "    \n",
    "def read_ftresults_stream(stream, limit=None):\n",
    "    \"\"\"\n",
    "    Read ftresults from a stream.\n",
    "\n",
    "    Ftresults are assumed to be in a text file with at least 5\n",
    "    columns.  The first column will be the rotation index. The next\n",
    "    three columns are the translation vector, and the last column is\n",
    "    the total weighted energy.\n",
    "    \"\"\"\n",
    "    stream = iter(stream)\n",
    "\n",
    "    return np.loadtxt(\n",
    "        islice(stream, 0, limit),\n",
    "        dtype=FTRESULT_DTYPE,\n",
    "        usecols=(0, 1, 2, 3, 4))"
   ]
  },
  {
   "cell_type": "code",
   "execution_count": 6,
   "metadata": {},
   "outputs": [],
   "source": [
    "def getCenterandTV(atom_group, ftresults, rotations, center=None):\n",
    "    orig_coords = atom_group.getCoords()\n",
    "    if center is None:\n",
    "        center = np.mean(orig_coords, axis=0)  \n",
    "    post_tv = np.expand_dims(ftresults['tv'] + center, 1)\n",
    "    center = center * -1\n",
    "    return center, post_tv"
   ]
  },
  {
   "cell_type": "code",
   "execution_count": 7,
   "metadata": {},
   "outputs": [],
   "source": [
    "def getTTT(ft, rot, center, post_tv):\n",
    "    \"\"\"\n",
    "    Arguments include: \n",
    "    ft --> output from read_ftresults_stream\n",
    "    rot --> output from read_rotations_stream\n",
    "    center --> output from getCenterandTV\n",
    "    post_tv --> output from getCeneterandTV\n",
    "    \n",
    "    Will return a PyMOL happy matrix (4x4) with the top-left most \n",
    "    (3x3) is a rotation matrix, the right (3x1) is a post-rotation\n",
    "    translation vector (accounting for the center) and the bottom\n",
    "    (1x4) is the pre-rotational matrix ([-1]*center)\n",
    "    \"\"\"\n",
    "\n",
    "    rot_number = ft['roti']\n",
    "    rot_matrix = rot[rot_number]\n",
    "    pymolMatrix = np.append(rot_matrix, post_tv, axis = 1)\n",
    "    zeros = np.append(center, '1')\n",
    "    pymolMatrix = np.append(pymolMatrix, zeros)\n",
    "    return pymolMatrix"
   ]
  },
  {
   "cell_type": "code",
   "execution_count": 11,
   "metadata": {},
   "outputs": [],
   "source": [
    "def transformInputs(rotation_stream, entry, master_lig, lig_name):\n",
    "    master_lig_pdb = parsePDB(master_lig)\n",
    "    centers, post_tv = getCenterandTV(master_lig_pdb, entry, rotation_stream)\n",
    "    TTT = getTTT(entry, rotation_stream, centers, post_tv)\n",
    "    target = cmd.get_object_list(\"{}\".format(lig_name))\n",
    "    return target, TTT"
   ]
  },
  {
   "cell_type": "code",
   "execution_count": 12,
   "metadata": {},
   "outputs": [],
   "source": [
    "def genPDBinPymol(rotationFile, ftentry, masterLig):\n",
    "    rotationStream = read_rotations(rotationFile)\n",
    "    cmd.load(masterLig)\n",
    "    name = os.path.basename(masterLig)\n",
    "    lig, matrix = transformInputs(rotationStream, ftentry, masterLig, name)\n",
    "\n",
    "    # Formatting stuff\n",
    "    lig = lig[0]\n",
    "    matrix = list(matrix.flatten())\n",
    "    matrix = map(float, matrix)\n",
    "    cmd.transform_selection(\"{}\".format(lig), matrix)"
   ]
  },
  {
   "cell_type": "code",
   "execution_count": null,
   "metadata": {},
   "outputs": [],
   "source": [
    "def genPDB(outPath, clusterFile, ft, rotprm, ligFile, ftGenTemp):\n",
    "    \"\"\"Usage: sblu docking gen_cluster_pdb [OPTIONS] CLUSTERFILE FTFILE ROTPRM\n",
    "                                    LIG_FILE\n",
    "\n",
    "    Options:\n",
    "      -o, --output-prefix TEXT    Common prefix for output pdb files (default:\n",
    "                                  lig)\n",
    "      -l, --max-clusters INTEGER  Number of top clusters to build models for\n",
    "                                  (default: all)\n",
    "      -s, --symmetry TEXT         Type of symmetry\n",
    "      --help                      Show this message and exit.\n",
    "\n",
    "    \"\"\"\n",
    "    with open(ft, 'r') as rf:\n",
    "        for num, ftentry in enumerate(rf):\n",
    "            with open(ftGenTemp, 'x+') as ft_gen_pdb:\n",
    "                ft_gen_pdb.write(ftentry)\n",
    "                ft_gen_pdb.write(ftentry)\n",
    "                ft_gen_pdb.flush()\n",
    "                cmd = 'sblu docking gen_cluster_pdb -o {out}/{num} {clusterFile} {ft_gen_pdb} {rotprm} {ligFile}'\n",
    "                print cmd\n",
    "                proc = Popen(cmd, shell=True, stderr=PIPE, stdout=PIPE)\n",
    "                so,se = proc.communicate()"
   ]
  }
 ],
 "metadata": {
  "kernelspec": {
   "display_name": "Python 2",
   "language": "python",
   "name": "python2"
  },
  "language_info": {
   "codemirror_mode": {
    "name": "ipython",
    "version": 2
   },
   "file_extension": ".py",
   "mimetype": "text/x-python",
   "name": "python",
   "nbconvert_exporter": "python",
   "pygments_lexer": "ipython2",
   "version": "2.7.15rc1"
  }
 },
 "nbformat": 4,
 "nbformat_minor": 2
}
