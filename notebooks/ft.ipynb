{
 "cells": [
  {
   "cell_type": "code",
   "execution_count": null,
   "metadata": {},
   "outputs": [],
   "source": [
    "# ./ft.py\n",
    "\n",
    "# Description:\n",
    "# Returns a ft file based on a type of input"
   ]
  },
  {
   "cell_type": "code",
   "execution_count": null,
   "metadata": {},
   "outputs": [],
   "source": [
    "from __future__ import division\n",
    "import os\n",
    "import sys\n",
    "\n",
    "from glob import glob\n",
    "from subprocess import Popen,PIPE\n",
    "\n",
    "import pandas as pd\n",
    "\n",
    "from pymol import cmd"
   ]
  },
  {
   "cell_type": "code",
   "execution_count": null,
   "metadata": {},
   "outputs": [],
   "source": [
    "def fromList(ftList, ftOrig, ftPathOut):\n",
    "    \"\"\"A generalized script that generates an FT file from a list\n",
    "    \"\"\"\n",
    "    for entry in ftList:\n",
    "        with open(ftOrig, 'r') as rf:\n",
    "            for num, ff in enumerate(rf):\n",
    "                if num == int(entry):\n",
    "                    with open(ftPathOut, 'a') as ftOut:\n",
    "                        ftOut.write(ff)"
   ]
  },
  {
   "cell_type": "code",
   "execution_count": null,
   "metadata": {},
   "outputs": [],
   "source": [
    "def fromPymolSession(session, ftOrig, ftPathOut):\n",
    "    \"\"\"Writes one or more FT files based on ligand names that are saved to a \n",
    "    given PyMOL session.\n",
    "    \n",
    "    Assumes that the ligand is saved in the form of \"*.ft_entry.ft_file.00.pdb\"\n",
    "    \n",
    "    \"\"\"\n",
    "    \n",
    "    if os.path.isfile(session) is True:\n",
    "        cmd.load(session)\n",
    "        pymol.finish_launching()\n",
    "        cmd.load(session) # otherwise stops @ error 'PyMOL not running, entering library mode (experimental)'\n",
    "\n",
    "        ligands = cmd.get_object_list(\"*.00\")\n",
    "\n",
    "        lig_000 = []\n",
    "        lig_002 = []\n",
    "        lig_004 = []\n",
    "        lig_006 = []\n",
    "\n",
    "        for lig in ligands:\n",
    "            ft_ligand = lig.split('.')[-2]\n",
    "            name_ligand = lig.split('.')[-3]\n",
    "\n",
    "            if ft_ligand == '000':\n",
    "                lig_000.append(name_ligand)\n",
    "            \n",
    "            elif ft_ligand == '002':\n",
    "                lig_002.append(name_ligand)\n",
    "            \n",
    "            elif ft_ligand == '004':\n",
    "                lig_004.append(name_ligand)\n",
    "            \n",
    "            else:\n",
    "                lig_006.append(name_ligand)\n",
    "\n",
    "        if len(lig_000) > 0:\n",
    "            ftPathOut = os.path.join(ftPathOut, \"000\")\n",
    "            fromList(lig_000, ftOrig, ftPathOut)\n",
    "        \n",
    "        elif len(lig_002) > 0:\n",
    "            ftPathOut = os.path.join(ftPathOut, \"002\")\n",
    "            fromList(lig_002, ftOrig, ftPathOut)\n",
    "        \n",
    "        elif len(lig_004) > 0:\n",
    "            ftPathOut = os.path.join(ftPathOut, \"004\")\n",
    "            fromList(lig_004, ftOrig, ftPathOut)\n",
    "        \n",
    "        elif len(lig_006) > 0:\n",
    "            ftPathOut = os.path.join(ftPathOut, \"006\")\n",
    "            fromList(lig_006, ftOrig, ftPathOut)\n",
    "        \n",
    "        else:\n",
    "            print(\"Check to see if the ligands in the PyMOL session are formatted as: *.ft_entry.ft_file.00.pdb \")"
   ]
  },
  {
   "cell_type": "code",
   "execution_count": null,
   "metadata": {},
   "outputs": [],
   "source": [
    "def fromReport(report, ftOrig, ftPathOut, cluster=None):\n",
    "    \"\"\"Writes a FT file based on a RMSD Report generated from ./rmsd.reportRMSD\n",
    "    \"\"\"\n",
    "    entries = []\n",
    "    if cluster is None:\n",
    "        with open(report, 'r') as rf:\n",
    "            lines = rf.readlines()[1:]\n",
    "            for line in lines:\n",
    "                bn = line.split('\\t')[0]\n",
    "                entries.append(bn)\n",
    "        fromList(entries, ftOrig, ftPathOut)"
   ]
  }
 ],
 "metadata": {
  "kernelspec": {
   "display_name": "Python 2",
   "language": "python",
   "name": "python2"
  },
  "language_info": {
   "codemirror_mode": {
    "name": "ipython",
    "version": 2
   },
   "file_extension": ".py",
   "mimetype": "text/x-python",
   "name": "python",
   "nbconvert_exporter": "python",
   "pygments_lexer": "ipython2",
   "version": "2.7.15rc1"
  }
 },
 "nbformat": 4,
 "nbformat_minor": 2
}
