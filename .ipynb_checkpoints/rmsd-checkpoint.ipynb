{
 "cells": [
  {
   "cell_type": "code",
   "execution_count": null,
   "metadata": {},
   "outputs": [],
   "source": [
    "# ./rmsd.py\n",
    "\n",
    "# Description:\n",
    "# Calculates an rmsd for based on a\n",
    "# ligand and a crystallized ligand"
   ]
  },
  {
   "cell_type": "code",
   "execution_count": 1,
   "metadata": {},
   "outputs": [],
   "source": [
    "def getRMSD(ligfile, ligcrys, rotprm, ftfiles):\n",
    "    \"\"\"\n",
    "    \n",
    "    \"\"\"\n",
    "    for ftfile in FTFILES:\n",
    "        ftBase = os.path.basename(ftfile)\n",
    "        sessionBase = os.path.basename(session)\n",
    "        outBase = sessionBase + '_' + ftBase\n",
    "        rmsdout = os.path.join(SESSION_FOLDER, outBase)\n",
    "        cmd = 'sblu measure ftrmsd -o {out} {lig_file} {lig_crys} {ftfile} {rotprm}'.format(out=rmsdout, lig_file=lig_file, lig_crys=lig_crys, ftfile=ftfile, rotprm=rotprm) \n",
    "        print cmd\n",
    "        proc = Popen(cmd, shell=True, stderr=PIPE, stdout=PIPE)\n",
    "        so,se = proc.communicate()"
   ]
  },
  {
   "cell_type": "code",
   "execution_count": null,
   "metadata": {},
   "outputs": [],
   "source": []
  }
 ],
 "metadata": {
  "kernelspec": {
   "display_name": "Python 2",
   "language": "python",
   "name": "python2"
  },
  "language_info": {
   "codemirror_mode": {
    "name": "ipython",
    "version": 2
   },
   "file_extension": ".py",
   "mimetype": "text/x-python",
   "name": "python",
   "nbconvert_exporter": "python",
   "pygments_lexer": "ipython2",
   "version": "2.7.15rc1"
  }
 },
 "nbformat": 4,
 "nbformat_minor": 2
}
